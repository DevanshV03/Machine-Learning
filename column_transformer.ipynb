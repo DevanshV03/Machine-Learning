{
 "cells": [
  {
   "cell_type": "code",
   "execution_count": 1,
   "id": "59482ae6-d4d1-4d2d-8bd0-152035ca263b",
   "metadata": {},
   "outputs": [],
   "source": [
    "import pandas as pd\n",
    "import numpy as np\n",
    "from sklearn.preprocessing import OneHotEncoder\n",
    "from sklearn.preprocessing import OrdinalEncoder"
   ]
  },
  {
   "cell_type": "code",
   "execution_count": 3,
   "id": "5b10a75f-b9a3-48f8-b16a-efd13446d145",
   "metadata": {},
   "outputs": [],
   "source": [
    "from sklearn.impute import SimpleImputer\n",
    "from sklearn.compose import ColumnTransformer\n",
    "from sklearn.model_selection import train_test_split"
   ]
  },
  {
   "cell_type": "code",
   "execution_count": 5,
   "id": "bb00320c-5347-479f-8fcc-9f10f42f7d6f",
   "metadata": {},
   "outputs": [],
   "source": [
    "df = pd.read_csv('covid_toy.csv')"
   ]
  },
  {
   "cell_type": "code",
   "execution_count": 7,
   "id": "71c2a6cb-4da4-4078-a832-d36c3a2a6a0f",
   "metadata": {},
   "outputs": [
    {
     "data": {
      "text/html": [
       "<div>\n",
       "<style scoped>\n",
       "    .dataframe tbody tr th:only-of-type {\n",
       "        vertical-align: middle;\n",
       "    }\n",
       "\n",
       "    .dataframe tbody tr th {\n",
       "        vertical-align: top;\n",
       "    }\n",
       "\n",
       "    .dataframe thead th {\n",
       "        text-align: right;\n",
       "    }\n",
       "</style>\n",
       "<table border=\"1\" class=\"dataframe\">\n",
       "  <thead>\n",
       "    <tr style=\"text-align: right;\">\n",
       "      <th></th>\n",
       "      <th>age</th>\n",
       "      <th>gender</th>\n",
       "      <th>fever</th>\n",
       "      <th>cough</th>\n",
       "      <th>city</th>\n",
       "      <th>has_covid</th>\n",
       "    </tr>\n",
       "  </thead>\n",
       "  <tbody>\n",
       "    <tr>\n",
       "      <th>0</th>\n",
       "      <td>60</td>\n",
       "      <td>Male</td>\n",
       "      <td>103.0</td>\n",
       "      <td>Mild</td>\n",
       "      <td>Kolkata</td>\n",
       "      <td>No</td>\n",
       "    </tr>\n",
       "    <tr>\n",
       "      <th>1</th>\n",
       "      <td>27</td>\n",
       "      <td>Male</td>\n",
       "      <td>100.0</td>\n",
       "      <td>Mild</td>\n",
       "      <td>Delhi</td>\n",
       "      <td>Yes</td>\n",
       "    </tr>\n",
       "    <tr>\n",
       "      <th>2</th>\n",
       "      <td>42</td>\n",
       "      <td>Male</td>\n",
       "      <td>101.0</td>\n",
       "      <td>Mild</td>\n",
       "      <td>Delhi</td>\n",
       "      <td>No</td>\n",
       "    </tr>\n",
       "    <tr>\n",
       "      <th>3</th>\n",
       "      <td>31</td>\n",
       "      <td>Female</td>\n",
       "      <td>98.0</td>\n",
       "      <td>Mild</td>\n",
       "      <td>Kolkata</td>\n",
       "      <td>No</td>\n",
       "    </tr>\n",
       "    <tr>\n",
       "      <th>4</th>\n",
       "      <td>65</td>\n",
       "      <td>Female</td>\n",
       "      <td>101.0</td>\n",
       "      <td>Mild</td>\n",
       "      <td>Mumbai</td>\n",
       "      <td>No</td>\n",
       "    </tr>\n",
       "    <tr>\n",
       "      <th>...</th>\n",
       "      <td>...</td>\n",
       "      <td>...</td>\n",
       "      <td>...</td>\n",
       "      <td>...</td>\n",
       "      <td>...</td>\n",
       "      <td>...</td>\n",
       "    </tr>\n",
       "    <tr>\n",
       "      <th>95</th>\n",
       "      <td>12</td>\n",
       "      <td>Female</td>\n",
       "      <td>104.0</td>\n",
       "      <td>Mild</td>\n",
       "      <td>Bangalore</td>\n",
       "      <td>No</td>\n",
       "    </tr>\n",
       "    <tr>\n",
       "      <th>96</th>\n",
       "      <td>51</td>\n",
       "      <td>Female</td>\n",
       "      <td>101.0</td>\n",
       "      <td>Strong</td>\n",
       "      <td>Kolkata</td>\n",
       "      <td>Yes</td>\n",
       "    </tr>\n",
       "    <tr>\n",
       "      <th>97</th>\n",
       "      <td>20</td>\n",
       "      <td>Female</td>\n",
       "      <td>101.0</td>\n",
       "      <td>Mild</td>\n",
       "      <td>Bangalore</td>\n",
       "      <td>No</td>\n",
       "    </tr>\n",
       "    <tr>\n",
       "      <th>98</th>\n",
       "      <td>5</td>\n",
       "      <td>Female</td>\n",
       "      <td>98.0</td>\n",
       "      <td>Strong</td>\n",
       "      <td>Mumbai</td>\n",
       "      <td>No</td>\n",
       "    </tr>\n",
       "    <tr>\n",
       "      <th>99</th>\n",
       "      <td>10</td>\n",
       "      <td>Female</td>\n",
       "      <td>98.0</td>\n",
       "      <td>Strong</td>\n",
       "      <td>Kolkata</td>\n",
       "      <td>Yes</td>\n",
       "    </tr>\n",
       "  </tbody>\n",
       "</table>\n",
       "<p>100 rows × 6 columns</p>\n",
       "</div>"
      ],
      "text/plain": [
       "    age  gender  fever   cough       city has_covid\n",
       "0    60    Male  103.0    Mild    Kolkata        No\n",
       "1    27    Male  100.0    Mild      Delhi       Yes\n",
       "2    42    Male  101.0    Mild      Delhi        No\n",
       "3    31  Female   98.0    Mild    Kolkata        No\n",
       "4    65  Female  101.0    Mild     Mumbai        No\n",
       "..  ...     ...    ...     ...        ...       ...\n",
       "95   12  Female  104.0    Mild  Bangalore        No\n",
       "96   51  Female  101.0  Strong    Kolkata       Yes\n",
       "97   20  Female  101.0    Mild  Bangalore        No\n",
       "98    5  Female   98.0  Strong     Mumbai        No\n",
       "99   10  Female   98.0  Strong    Kolkata       Yes\n",
       "\n",
       "[100 rows x 6 columns]"
      ]
     },
     "execution_count": 7,
     "metadata": {},
     "output_type": "execute_result"
    }
   ],
   "source": [
    "df"
   ]
  },
  {
   "cell_type": "code",
   "execution_count": 19,
   "id": "7c1fb5b2-18ba-4300-8882-61b5c22b1b58",
   "metadata": {},
   "outputs": [],
   "source": [
    "transformer = ColumnTransformer(transformers = [\n",
    "    ('tnf1',SimpleImputer(),['fever']),\n",
    "    ('tnf2', OrdinalEncoder(categories = [['Mild','Strong']]),['cough']),\n",
    "    ('tnf3',OneHotEncoder(drop = 'first', sparse_output = False),['gender','city']),\n",
    "], remainder = 'passthrough')"
   ]
  },
  {
   "cell_type": "code",
   "execution_count": 21,
   "id": "ebbff857-32cc-4f63-9c4a-8344c4a50417",
   "metadata": {},
   "outputs": [],
   "source": [
    "X = df.iloc[:,0:5].values"
   ]
  },
  {
   "cell_type": "code",
   "execution_count": 23,
   "id": "ac605768-ff2f-4b77-bb06-caf843e0b802",
   "metadata": {},
   "outputs": [],
   "source": [
    "Y = df.iloc[:,-1].values"
   ]
  },
  {
   "cell_type": "code",
   "execution_count": 25,
   "id": "0cd924ff-cf08-4838-846f-230370b26f03",
   "metadata": {},
   "outputs": [],
   "source": [
    "X_train, X_test, Y_train, Y_test = train_test_split(X, Y, test_size = 0.2, random_state = 2)"
   ]
  },
  {
   "cell_type": "code",
   "execution_count": 45,
   "id": "5504101e-1eb7-4480-ae35-f2b4dd60774c",
   "metadata": {},
   "outputs": [],
   "source": [
    "X_train = pd.DataFrame(X_train, columns = df.columns[0:5])\n",
    "X_test = pd.DataFrame(X_test, columns = df.columns[0:5])"
   ]
  },
  {
   "cell_type": "code",
   "execution_count": 47,
   "id": "3c829d16-3682-4761-8b82-c419dfb35281",
   "metadata": {},
   "outputs": [],
   "source": [
    "X_train = transformer.fit_transform(X_train)\n",
    "X_test = transformer.transform(X_test)"
   ]
  },
  {
   "cell_type": "code",
   "execution_count": 49,
   "id": "69fde6b1-0c5f-4f2a-b45f-a3c4dcfcebf0",
   "metadata": {},
   "outputs": [
    {
     "data": {
      "text/plain": [
       "array([[102.0, 1.0, 0.0, 0.0, 0.0, 0.0, 82],\n",
       "       [98.0, 0.0, 0.0, 0.0, 0.0, 1.0, 65],\n",
       "       [98.0, 1.0, 0.0, 0.0, 0.0, 1.0, 69],\n",
       "       [102.0, 1.0, 1.0, 1.0, 0.0, 0.0, 20],\n",
       "       [98.0, 1.0, 1.0, 0.0, 1.0, 0.0, 34],\n",
       "       [100.79166666666667, 0.0, 0.0, 0.0, 0.0, 0.0, 84],\n",
       "       [100.79166666666667, 0.0, 1.0, 0.0, 0.0, 1.0, 23],\n",
       "       [101.0, 0.0, 0.0, 0.0, 1.0, 0.0, 8],\n",
       "       [104.0, 1.0, 0.0, 1.0, 0.0, 0.0, 34],\n",
       "       [104.0, 1.0, 0.0, 0.0, 0.0, 0.0, 56],\n",
       "       [102.0, 0.0, 0.0, 0.0, 0.0, 0.0, 69],\n",
       "       [100.0, 0.0, 1.0, 1.0, 0.0, 0.0, 27],\n",
       "       [98.0, 0.0, 0.0, 0.0, 0.0, 0.0, 64],\n",
       "       [99.0, 1.0, 1.0, 0.0, 0.0, 0.0, 66],\n",
       "       [101.0, 0.0, 0.0, 0.0, 0.0, 0.0, 38],\n",
       "       [100.0, 0.0, 1.0, 0.0, 0.0, 0.0, 11],\n",
       "       [101.0, 1.0, 1.0, 0.0, 0.0, 0.0, 14],\n",
       "       [103.0, 1.0, 1.0, 0.0, 0.0, 0.0, 46],\n",
       "       [100.79166666666667, 0.0, 1.0, 1.0, 0.0, 0.0, 38],\n",
       "       [100.79166666666667, 0.0, 0.0, 1.0, 0.0, 0.0, 75],\n",
       "       [99.0, 1.0, 0.0, 0.0, 1.0, 0.0, 25],\n",
       "       [98.0, 0.0, 1.0, 1.0, 0.0, 0.0, 83],\n",
       "       [101.0, 1.0, 1.0, 0.0, 0.0, 0.0, 47],\n",
       "       [99.0, 0.0, 0.0, 0.0, 0.0, 1.0, 60],\n",
       "       [104.0, 0.0, 0.0, 0.0, 0.0, 0.0, 12],\n",
       "       [101.0, 1.0, 0.0, 1.0, 0.0, 0.0, 34],\n",
       "       [100.79166666666667, 1.0, 0.0, 0.0, 0.0, 0.0, 42],\n",
       "       [100.0, 0.0, 0.0, 0.0, 1.0, 0.0, 19],\n",
       "       [102.0, 1.0, 0.0, 0.0, 0.0, 0.0, 24],\n",
       "       [101.0, 0.0, 0.0, 0.0, 0.0, 1.0, 81],\n",
       "       [101.0, 0.0, 0.0, 1.0, 0.0, 0.0, 64],\n",
       "       [101.0, 1.0, 0.0, 0.0, 1.0, 0.0, 51],\n",
       "       [98.0, 1.0, 0.0, 1.0, 0.0, 0.0, 40],\n",
       "       [104.0, 0.0, 0.0, 0.0, 1.0, 0.0, 6],\n",
       "       [99.0, 1.0, 0.0, 0.0, 0.0, 0.0, 49],\n",
       "       [100.79166666666667, 0.0, 1.0, 0.0, 1.0, 0.0, 82],\n",
       "       [104.0, 0.0, 1.0, 0.0, 0.0, 1.0, 42],\n",
       "       [99.0, 0.0, 1.0, 0.0, 0.0, 0.0, 72],\n",
       "       [101.0, 0.0, 0.0, 0.0, 0.0, 0.0, 20],\n",
       "       [100.0, 1.0, 0.0, 0.0, 0.0, 0.0, 19],\n",
       "       [104.0, 1.0, 0.0, 1.0, 0.0, 0.0, 75],\n",
       "       [100.79166666666667, 1.0, 1.0, 0.0, 1.0, 0.0, 79],\n",
       "       [99.0, 1.0, 0.0, 1.0, 0.0, 0.0, 59],\n",
       "       [98.0, 1.0, 0.0, 0.0, 0.0, 1.0, 5],\n",
       "       [104.0, 0.0, 1.0, 0.0, 0.0, 0.0, 25],\n",
       "       [99.0, 0.0, 0.0, 0.0, 0.0, 1.0, 14],\n",
       "       [101.0, 0.0, 1.0, 1.0, 0.0, 0.0, 19],\n",
       "       [100.0, 1.0, 0.0, 0.0, 0.0, 0.0, 47],\n",
       "       [104.0, 0.0, 1.0, 0.0, 1.0, 0.0, 51],\n",
       "       [100.0, 0.0, 0.0, 0.0, 1.0, 0.0, 5],\n",
       "       [101.0, 1.0, 0.0, 1.0, 0.0, 0.0, 68],\n",
       "       [101.0, 0.0, 0.0, 0.0, 0.0, 1.0, 19],\n",
       "       [104.0, 1.0, 0.0, 0.0, 1.0, 0.0, 54],\n",
       "       [103.0, 0.0, 0.0, 1.0, 0.0, 0.0, 73],\n",
       "       [99.0, 0.0, 1.0, 1.0, 0.0, 0.0, 65],\n",
       "       [98.0, 1.0, 1.0, 0.0, 0.0, 1.0, 23],\n",
       "       [98.0, 0.0, 0.0, 0.0, 1.0, 0.0, 26],\n",
       "       [101.0, 0.0, 0.0, 1.0, 0.0, 0.0, 49],\n",
       "       [100.0, 1.0, 0.0, 0.0, 1.0, 0.0, 11],\n",
       "       [100.0, 0.0, 1.0, 1.0, 0.0, 0.0, 27],\n",
       "       [101.0, 0.0, 0.0, 0.0, 0.0, 1.0, 65],\n",
       "       [99.0, 0.0, 1.0, 0.0, 0.0, 0.0, 65],\n",
       "       [103.0, 0.0, 0.0, 0.0, 1.0, 0.0, 50],\n",
       "       [100.0, 0.0, 1.0, 0.0, 1.0, 0.0, 55],\n",
       "       [98.0, 1.0, 1.0, 0.0, 0.0, 0.0, 12],\n",
       "       [103.0, 0.0, 1.0, 0.0, 1.0, 0.0, 83],\n",
       "       [100.0, 0.0, 1.0, 0.0, 0.0, 0.0, 10],\n",
       "       [104.0, 0.0, 0.0, 0.0, 0.0, 0.0, 18],\n",
       "       [103.0, 0.0, 0.0, 0.0, 0.0, 0.0, 16],\n",
       "       [100.0, 0.0, 1.0, 0.0, 1.0, 0.0, 27],\n",
       "       [104.0, 0.0, 1.0, 0.0, 0.0, 1.0, 44],\n",
       "       [102.0, 0.0, 1.0, 0.0, 0.0, 1.0, 74],\n",
       "       [100.79166666666667, 1.0, 0.0, 0.0, 0.0, 1.0, 20],\n",
       "       [102.0, 0.0, 1.0, 0.0, 1.0, 0.0, 5],\n",
       "       [98.0, 0.0, 1.0, 0.0, 1.0, 0.0, 24],\n",
       "       [99.0, 0.0, 0.0, 0.0, 0.0, 0.0, 22],\n",
       "       [98.0, 1.0, 0.0, 0.0, 1.0, 0.0, 71],\n",
       "       [101.0, 0.0, 0.0, 0.0, 1.0, 0.0, 83],\n",
       "       [103.0, 1.0, 1.0, 0.0, 1.0, 0.0, 70],\n",
       "       [102.0, 0.0, 0.0, 1.0, 0.0, 0.0, 49]], dtype=object)"
      ]
     },
     "execution_count": 49,
     "metadata": {},
     "output_type": "execute_result"
    }
   ],
   "source": [
    "X_train"
   ]
  },
  {
   "cell_type": "code",
   "execution_count": 51,
   "id": "d94b46d5-3b43-4fd2-a4f3-927e81f5627e",
   "metadata": {},
   "outputs": [
    {
     "data": {
      "text/plain": [
       "array([[104.0, 0.0, 0.0, 0.0, 1.0, 0.0, 17],\n",
       "       [101.0, 0.0, 1.0, 1.0, 0.0, 0.0, 15],\n",
       "       [100.79166666666667, 1.0, 1.0, 0.0, 1.0, 0.0, 71],\n",
       "       [100.0, 1.0, 0.0, 0.0, 1.0, 0.0, 13],\n",
       "       [103.0, 0.0, 0.0, 0.0, 1.0, 0.0, 69],\n",
       "       [98.0, 0.0, 0.0, 1.0, 0.0, 0.0, 80],\n",
       "       [101.0, 0.0, 1.0, 1.0, 0.0, 0.0, 42],\n",
       "       [102.0, 1.0, 0.0, 1.0, 0.0, 0.0, 33],\n",
       "       [104.0, 0.0, 1.0, 0.0, 1.0, 0.0, 16],\n",
       "       [102.0, 0.0, 1.0, 0.0, 0.0, 0.0, 64],\n",
       "       [98.0, 1.0, 0.0, 0.0, 1.0, 0.0, 10],\n",
       "       [102.0, 1.0, 0.0, 0.0, 1.0, 0.0, 82],\n",
       "       [100.0, 0.0, 1.0, 0.0, 0.0, 0.0, 80],\n",
       "       [104.0, 0.0, 1.0, 0.0, 0.0, 0.0, 51],\n",
       "       [103.0, 0.0, 1.0, 0.0, 1.0, 0.0, 60],\n",
       "       [98.0, 0.0, 1.0, 0.0, 0.0, 0.0, 73],\n",
       "       [98.0, 0.0, 0.0, 0.0, 1.0, 0.0, 31],\n",
       "       [100.79166666666667, 1.0, 0.0, 0.0, 0.0, 1.0, 34],\n",
       "       [98.0, 1.0, 0.0, 0.0, 0.0, 1.0, 81],\n",
       "       [103.0, 0.0, 0.0, 0.0, 1.0, 0.0, 48]], dtype=object)"
      ]
     },
     "execution_count": 51,
     "metadata": {},
     "output_type": "execute_result"
    }
   ],
   "source": [
    "X_test"
   ]
  },
  {
   "cell_type": "code",
   "execution_count": null,
   "id": "2f4e3b94-1d20-4df1-a530-de0307b54979",
   "metadata": {},
   "outputs": [],
   "source": []
  }
 ],
 "metadata": {
  "kernelspec": {
   "display_name": "Python 3 (ipykernel)",
   "language": "python",
   "name": "python3"
  },
  "language_info": {
   "codemirror_mode": {
    "name": "ipython",
    "version": 3
   },
   "file_extension": ".py",
   "mimetype": "text/x-python",
   "name": "python",
   "nbconvert_exporter": "python",
   "pygments_lexer": "ipython3",
   "version": "3.12.4"
  }
 },
 "nbformat": 4,
 "nbformat_minor": 5
}
